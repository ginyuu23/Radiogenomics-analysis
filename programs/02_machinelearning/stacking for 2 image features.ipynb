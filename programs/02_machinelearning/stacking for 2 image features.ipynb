{
 "cells": [
  {
   "cell_type": "code",
   "execution_count": 1,
   "metadata": {},
   "outputs": [],
   "source": [
    "import numpy as np\n",
    "import pandas as pd\n",
    "import matplotlib.pyplot as plt\n",
    "from sklearn.preprocessing import StandardScaler\n",
    "from sklearn import model_selection\n",
    "from sklearn.linear_model import LogisticRegression\n",
    "from sklearn import svm\n",
    "from sklearn.svm import SVC\n",
    "from sklearn.ensemble import GradientBoostingClassifier\n",
    "from sklearn.ensemble import RandomForestClassifier\n",
    "from sklearn.model_selection import train_test_split\n",
    "from sklearn.metrics import confusion_matrix\n",
    "from sklearn.metrics import accuracy_score\n",
    "from sklearn.metrics import roc_curve, auc\n",
    "from sklearn.metrics import plot_roc_curve\n",
    "from sklearn.metrics import classification_report\n",
    "from sklearn.metrics import precision_score, recall_score, f1_score\n",
    "from sklearn.metrics import mean_squared_error\n",
    "from sklearn.model_selection import cross_val_score\n",
    "from imblearn.over_sampling import ADASYN\n",
    "from imblearn.over_sampling import SMOTE\n",
    "from imblearn.over_sampling import BorderlineSMOTE\n",
    "from imblearn.over_sampling import SVMSMOTE \n",
    "from mlxtend.classifier import StackingClassifier\n",
    "import warnings; warnings.filterwarnings(action='ignore')"
   ]
  },
  {
   "cell_type": "code",
   "execution_count": 5,
   "metadata": {},
   "outputs": [],
   "source": [
    "#HOPX-2 image features\n",
    "def expression_type(s):\n",
    "    it = {b'normal/over':0, b'low':1}\n",
    "    return it[s]\n",
    "\n",
    "pathtrain = \"/Users/ginyuu/Desktop/data/train2.txt\"\n",
    "pathtest = \"/Users/ginyuu/Desktop/data/test2.txt\"\n",
    "datatrain = np.loadtxt(pathtrain, dtype=float, delimiter='\\t', converters={2:expression_type})\n",
    "datatest = np.loadtxt(pathtest, dtype=float, delimiter='\\t', converters={2:expression_type})\n",
    "\n",
    "train_data_nosmo, train_label_nosmo=np.split(datatrain,indices_or_sections=(2,),axis=1) #x为数据，y为标签,axis是分割的方向，1表示横向，0表示纵向，默认为0\n",
    "test_data, test_label=np.split(datatest,indices_or_sections=(2,),axis=1) #x为数据，y为标签,axis是分割的方向，1表示横向，0表示纵向，默认为0\n",
    "#train_data:训练样本，test_data：测试样本，train_label：训练样本标签，test_label：测试样本标签\n",
    "\n",
    "smo = SMOTE(random_state=1,k_neighbors=5)\n",
    "#smo = BorderlineSMOTE(kind='borderline-1',random_state=38, k_neighbors=3)\n",
    "train_data, train_label = smo.fit_resample(train_data_nosmo, train_label_nosmo)\n",
    "\n",
    "#svmsmo = SVMSMOTE(random_state=4, k_neighbors=5)\n",
    "#train_data, train_label = svmsmo.fit_resample(train_data_nosmo, train_label_nosmo)\n",
    "\n",
    "#ada = ADASYN(random_state=8,n_neighbors=3)\n",
    "#train_data, train_label = ada.fit_resample(train_data_nosmo, train_label_nosmo)"
   ]
  },
  {
   "cell_type": "code",
   "execution_count": 6,
   "metadata": {},
   "outputs": [
    {
     "name": "stdout",
     "output_type": "stream",
     "text": [
      "5-fold cross validation:\n",
      "\n",
      "0.6666666666666666\n",
      "[[12  5]\n",
      " [ 3  4]]\n",
      "              precision    recall  f1-score   support\n",
      "\n",
      "         0.0       0.80      0.71      0.75        17\n",
      "         1.0       0.44      0.57      0.50         7\n",
      "\n",
      "    accuracy                           0.67        24\n",
      "   macro avg       0.62      0.64      0.62        24\n",
      "weighted avg       0.70      0.67      0.68        24\n",
      "\n",
      "----------------------------------------------------------------\n",
      "Accuracy: 0.75 (+/- 0.13) [RF]\n",
      "Accuracy: 0.65 (+/- 0.09) [GBDT]\n",
      "Accuracy: 0.66 (+/- 0.09) [StackingModel]\n",
      "Confusion Matrix : \n",
      " [[12  5]\n",
      " [ 3  4]]\n",
      "Accuracy :  0.6666666666666666\n",
      "Specificity :  0.7058823529411765\n",
      "Sensitivity :  0.5714285714285714\n",
      "-----------------------------------------------------------------------\n",
      "Accuracy= 0.6666666666666666\n",
      "testAUC= 0.7563025210084033\n",
      "[1. 1. 1. 1. 0. 0. 0. 1. 0. 0. 1. 0. 0. 0. 0. 1. 0. 1. 1. 0. 0. 0. 0. 0.]\n"
     ]
    },
    {
     "data": {
      "text/plain": [
       "<Figure size 432x288 with 0 Axes>"
      ]
     },
     "metadata": {},
     "output_type": "display_data"
    },
    {
     "data": {
      "image/png": "[encoded data removed]",
      "text/plain": [
       "<Figure size 360x288 with 1 Axes>"
      ]
     },
     "metadata": {
      "needs_background": "light"
     },
     "output_type": "display_data"
    },
    {
     "name": "stdout",
     "output_type": "stream",
     "text": [
      "AUC= 0.7563025210084033\n"
     ]
    }
   ],
   "source": [
    "#========================================================\n",
    "#  实现Stacking集成\n",
    "#========================================================\n",
    "basemodel1 = svm.SVC(C=6000,kernel='rbf',gamma=0.6,decision_function_shape='ovo',probability=True) \n",
    "basemodel2 = RandomForestClassifier(random_state=1044,max_depth=5,max_features=0.9,min_samples_split=3, n_estimators=102)\n",
    "basemodel3 = GradientBoostingClassifier(random_state=723,learning_rate=0.8,max_depth=7, max_features=0.17,min_samples_split=6,n_estimators=27,subsample=0.5)\n",
    "\n",
    "\n",
    "meta = LogisticRegression(random_state=100) #meta_classifier  tol=0.0001,C=0.5,random_state=24,max_iter=10\n",
    "\n",
    "sclf = StackingClassifier(classifiers=[basemodel1, \n",
    "                                       #basemodel2,\n",
    "                                       basemodel3\n",
    "                                      ], \n",
    "                          use_probas=True, #类别概率值作为meta-classfier的输入\n",
    "                          average_probas=True,  #是否对每一个类别产生的概率值做平均\n",
    "                          meta_classifier=meta)\n",
    "\n",
    "sclf.fit(train_data, train_label)\n",
    "\n",
    "print('5-fold cross validation:\\n')\n",
    "\n",
    "#模型测试\n",
    "predict_results = sclf.predict(test_data)\n",
    "predict_results_train = sclf.predict(train_data)\n",
    "\n",
    "print(accuracy_score(predict_results, test_label))\n",
    "conf_mat = confusion_matrix(test_label, predict_results)\n",
    "print(conf_mat)\n",
    "print(classification_report(test_label, predict_results))\n",
    "print(\"----------------------------------------------------------------\")\n",
    "\n",
    "\n",
    "#5折交叉验证\n",
    "for clf, label in zip([basemodel1,basemodel3,sclf], ['RF','GBDT','StackingModel']):\n",
    "    scores = model_selection.cross_val_score(clf, train_data, train_label, cv=5, scoring='accuracy')  ##1-recall：sensitivity\n",
    "    print(\"Accuracy: %0.2f (+/- %0.2f) [%s]\" % (scores.mean(), scores.std(), label))\n",
    "    \n",
    "cm1 = confusion_matrix(test_label,predict_results)\n",
    "print('Confusion Matrix : \\n', cm1)\n",
    "total1=sum(sum(cm1))\n",
    "#####from confusion matrix calculate accuracy\n",
    "accuracy1=(cm1[0,0]+cm1[1,1])/total1\n",
    "print ('Accuracy : ', accuracy1)\n",
    "specificity1 = cm1[0,0]/(cm1[0,0]+cm1[0,1])\n",
    "print('Specificity : ', specificity1 )\n",
    "sensitivity1 = cm1[1,1]/(cm1[1,0]+cm1[1,1])\n",
    "print('Sensitivity : ', sensitivity1)\n",
    "    \n",
    "prob_predict_y_validation = sclf.predict_proba(test_data)#给出带有概率值的结果，每个点所有label的概率和为1\n",
    "accuracy = sclf.score(test_data,test_label)\n",
    "predictions_validation = prob_predict_y_validation[:, 1]\n",
    "fpr, tpr, _ = roc_curve(test_label, predictions_validation)###计算真正率和假正率\n",
    "roc_auc = auc(fpr, tpr)##计算auc的值\n",
    "print(\"-----------------------------------------------------------------------\")\n",
    "print(\"Accuracy=\",accuracy)\n",
    "print(\"testAUC=\",auc(fpr, tpr))\n",
    "print(sclf.predict(test_data))\n",
    "\n",
    "plt.figure()\n",
    "lw = 2\n",
    "plt.figure(figsize=(5,4))\n",
    "out=plt.plot(fpr, tpr, color='darkorange',lw=lw, label='ROC curve (area = %0.2f)' % roc_auc) ###假正率为横坐标，真正率为纵坐标做曲线\n",
    "out=plt.plot([0, 1], [0, 1], color='navy', lw=lw, linestyle='--')\n",
    "out=plt.xlim([0.0, 1.0])\n",
    "out=plt.ylim([0.0, 1.05])\n",
    "out=plt.xlabel('False Positive Rate',fontsize=10)\n",
    "out=plt.ylabel('True Positive Rate',fontsize=10)\n",
    "out=plt.title('ROC and AUC (Test)',fontweight='bold',fontsize=12)\n",
    "plt.text(-0.15,1.06,\"a\",fontweight='bold',fontsize=18)\n",
    "out=plt.legend(loc=\"lower right\")\n",
    "plt.show()\n",
    "output = out.get_figure()\n",
    "#output.savefig('/Users/armandayuu/Desktop/AUCtest111.png',dpi=300,bbox_inches='tight')\n",
    "print(\"AUC=\",auc(fpr, tpr))"
   ]
  },
  {
   "cell_type": "code",
   "execution_count": null,
   "metadata": {},
   "outputs": [],
   "source": []
  }
 ],
 "metadata": {
  "kernelspec": {
   "display_name": "Python 3 (ipykernel)",
   "language": "python",
   "name": "python3"
  },
  "language_info": {
   "codemirror_mode": {
    "name": "ipython",
    "version": 3
   },
   "file_extension": ".py",
   "mimetype": "text/x-python",
   "name": "python",
   "nbconvert_exporter": "python",
   "pygments_lexer": "ipython3",
   "version": "3.9.12"
  }
 },
 "nbformat": 4,
 "nbformat_minor": 4
}
