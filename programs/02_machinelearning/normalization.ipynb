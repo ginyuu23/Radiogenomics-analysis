{
 "cells": [
  {
   "cell_type": "code",
   "execution_count": 1,
   "metadata": {},
   "outputs": [],
   "source": [
    "import os\n",
    "import numpy as np\n",
    "import pandas as pd\n",
    "from pandas import DataFrame, Series\n",
    "import csv"
   ]
  },
  {
   "cell_type": "code",
   "execution_count": 2,
   "metadata": {},
   "outputs": [],
   "source": [
    "def regularit(df):\n",
    "    newDataFrame = pd.DataFrame(index=df.index)\n",
    "    columns = df.columns.tolist()\n",
    "    for c in columns:\n",
    "        d = df[c]\n",
    "        MAX = d.max()\n",
    "        MIN = d.min()\n",
    "        newDataFrame[c] = ((d - MIN) / (MAX - MIN)).tolist() #tolist函数：将数据（可以是index 也可以是numpy，array等）转换为列表\n",
    "    return newDataFrame"
   ]
  },
  {
   "cell_type": "code",
   "execution_count": 3,
   "metadata": {},
   "outputs": [],
   "source": [
    "def z_score(df):\n",
    "    newDataFrame = pd.DataFrame(index=df.index)\n",
    "    columns = df.columns.tolist()\n",
    "    for c in columns:\n",
    "        d = df[c]\n",
    "        MEAN = d.mean()\n",
    "        STD = d.std()\n",
    "        newDataFrame[c] = ((d - MEAN) / STD).tolist() #tolist函数：将数据（可以是index 也可以是numpy，array等）转换为列表\n",
    "    return newDataFrame"
   ]
  },
  {
   "cell_type": "code",
   "execution_count": 4,
   "metadata": {},
   "outputs": [],
   "source": [
    "def robust_z_score(df):\n",
    "    newDataFrame = pd.DataFrame(index=df.index)\n",
    "    columns = df.columns.tolist()\n",
    "    for c in columns:\n",
    "        d = df[c]\n",
    "        MEDIAN = d.median()\n",
    "        MAD = d.mad()\n",
    "        #MAD = d.median(np.abs(d-d.median))\n",
    "        newDataFrame[c] = ((d - MEDIAN) / MAD).tolist() #tolist函数：将数据（可以是index 也可以是numpy，array等）转换为列表\n",
    "    return newDataFrame"
   ]
  },
  {
   "cell_type": "code",
   "execution_count": null,
   "metadata": {},
   "outputs": [],
   "source": [
    "#对于feature的normalization\n",
    "#以上公式都是按照列计算（feature中每列为feature）\n",
    "df=pd.read_csv(\"/path of feature.csv/\", header=0, index_col=0)\n",
    "df.head()\n",
    "#按照feature计算每个case\n",
    "df3=robust_z_score(df)\n",
    "df3.head()\n",
    "df3.to_csv(\"/save path of feaure-normalizedbyxx.csv/\")"
   ]
  },
  {
   "cell_type": "code",
   "execution_count": null,
   "metadata": {},
   "outputs": [],
   "source": []
  },
  {
   "cell_type": "code",
   "execution_count": 15,
   "metadata": {},
   "outputs": [],
   "source": [
    "#对于gene的normalization\n",
    "#以上公式都是按照列计算（gene中每列为case,所以需要转置为每列为gene）\n",
    "df=pd.read_csv(\"/path of gene.csv/\", header=0, index_col=0)\n",
    "df.head()\n",
    "#转置矩阵按照gene计算所有case\n",
    "df2=pd.DataFrame(df.values.T, index=df.columns, columns=df.index)\n",
    "df2.head()\n",
    "df3=robust_z_score(df2)\n",
    "df3.head()\n",
    "#再次转置回到初始表格顺序\n",
    "df4=pd.DataFrame(df3.values.T, index=df3.columns, columns=df3.index)\n",
    "df4.head()\n",
    "df4.to_csv(\"/save path of gene-normalizedbyxx.csv/\")"
   ]
  },
  {
   "cell_type": "code",
   "execution_count": null,
   "metadata": {},
   "outputs": [],
   "source": []
  }
 ],
 "metadata": {
  "kernelspec": {
   "display_name": "Python 3",
   "language": "python",
   "name": "python3"
  },
  "language_info": {
   "codemirror_mode": {
    "name": "ipython",
    "version": 3
   },
   "file_extension": ".py",
   "mimetype": "text/x-python",
   "name": "python",
   "nbconvert_exporter": "python",
   "pygments_lexer": "ipython3",
   "version": "3.8.5"
  }
 },
 "nbformat": 4,
 "nbformat_minor": 4
}
