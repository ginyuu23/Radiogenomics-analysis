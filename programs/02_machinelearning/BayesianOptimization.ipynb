{
 "cells": [
  {
   "cell_type": "code",
   "execution_count": null,
   "metadata": {},
   "outputs": [],
   "source": [
    "import numpy as np\n",
    "import pandas as pd\n",
    "from sklearn.preprocessing import StandardScaler\n",
    "from sklearn import model_selection\n",
    "from sklearn.linear_model import LogisticRegression\n",
    "from sklearn import svm\n",
    "from sklearn.svm import SVC\n",
    "from sklearn.ensemble import GradientBoostingClassifier\n",
    "from sklearn.naive_bayes import GaussianNB \n",
    "from sklearn.ensemble import RandomForestClassifier\n",
    "from sklearn.model_selection import train_test_split\n",
    "from sklearn.metrics import confusion_matrix\n",
    "from sklearn.metrics import accuracy_score\n",
    "from sklearn.metrics import roc_curve, auc\n",
    "from sklearn.metrics import plot_roc_curve\n",
    "from sklearn.metrics import classification_report\n",
    "from sklearn.metrics import precision_score, recall_score, f1_score\n",
    "from sklearn.model_selection import cross_val_score\n",
    "from imblearn.over_sampling import ADASYN\n",
    "from imblearn.over_sampling import SMOTE\n",
    "from imblearn.over_sampling import BorderlineSMOTE\n",
    "from imblearn.over_sampling import SVMSMOTE\n",
    "from bayes_opt import BayesianOptimization\n",
    "from mlxtend.classifier import StackingClassifier\n",
    "import matplotlib.pyplot as plt\n",
    "import warnings; warnings.filterwarnings(action='ignore')"
   ]
  },
  {
   "cell_type": "code",
   "execution_count": null,
   "metadata": {},
   "outputs": [],
   "source": [
    "#load data\n",
    "pathtrain = \"/path of train.txt/\"\n",
    "pathtest = \"/path of test.txt/\"\n",
    "datatrain = np.loadtxt(pathtrain, dtype=float, delimiter='\\t')\n",
    "datatest = np.loadtxt(pathtest, dtype=float, delimiter='\\t')\n",
    "\n",
    "train_data_nosmo, train_label_nosmo=np.split(datatrain,indices_or_sections=(3,),axis=1) \n",
    "test_data, test_label=np.split(datatest,indices_or_sections=(3,),axis=1)\n",
    "\n",
    "smo = SMOTE(random_state=1,k_neighbors=5)\n",
    "#smo = BorderlineSMOTE(kind='borderline-2',random_state=38, k_neighbors=3)\n",
    "train_data, train_label = smo.fit_resample(train_data_nosmo, train_label_nosmo)\n",
    "#print(Counter(train_label))\n",
    "\n",
    "#ada = ADASYN(random_state=5,n_neighbors=3)\n",
    "#train_data, train_label = ada.fit_resample(train_data_nosmo, train_label_nosmo)"
   ]
  },
  {
   "cell_type": "code",
   "execution_count": null,
   "metadata": {},
   "outputs": [],
   "source": [
    "#BayesianOptimization for SVM\n",
    "hparams = {\"c\" : (0.5, 1000),\n",
    "           \"gamma\" : (0.00001, 1)}\n",
    "\n",
    "\n",
    "def svm_cv(c,gamma):\n",
    "    val = cross_val_score(svm.SVC(C =c,gamma = gamma,kernel='rbf',decision_function_shape='ovo',probability=True,random_state=0),\n",
    "                          train_data, train_label, scoring='roc_auc', cv=5).mean()\n",
    "    return val\n",
    "\n",
    "\n",
    "\n",
    "svm_bo = BayesianOptimization(f = svm_cv, pbounds = hparams)\n",
    "\n",
    "svm_bo.maximize(n_iter=50) #n_iter=10\n",
    "svm_bo.max"
   ]
  },
  {
   "cell_type": "code",
   "execution_count": null,
   "metadata": {},
   "outputs": [],
   "source": [
    "#BayesianOptimization for RF\n",
    "def rf_cv(n_estimators, min_samples_split, max_features, max_depth):\n",
    "    val = cross_val_score(RandomForestClassifier(n_estimators=int(n_estimators),\n",
    "                                                 min_samples_split=int(min_samples_split),\n",
    "                                                 max_features=min(max_features, 0.999), # float\n",
    "                                                 max_depth=int(max_depth),\n",
    "                                                 random_state=0),\n",
    "                          train_data, train_label, scoring='roc_auc', cv=5).mean()\n",
    "    return val\n",
    "\n",
    "rf_bo = BayesianOptimization(rf_cv,{'n_estimators': (10, 250),\n",
    "                                    'min_samples_split': (2, 25),\n",
    "                                    'max_features': (0.1, 0.999),\n",
    "                                    'max_depth': (5, 15)})\n",
    "rf_bo.maximize() #n_iter=10\n",
    "rf_bo.max"
   ]
  },
  {
   "cell_type": "code",
   "execution_count": null,
   "metadata": {},
   "outputs": [],
   "source": [
    "##BayesianOptimization for GBDT\n",
    "def gbdt_cv(n_estimators, min_samples_split, max_features, max_depth, learning_rate, subsample):\n",
    "    val = cross_val_score(GradientBoostingClassifier(n_estimators=int(n_estimators),\n",
    "                                                     min_samples_split=int(min_samples_split),\n",
    "                                                     max_features=min(max_features, 0.999), # float\n",
    "                                                     max_depth=int(max_depth),\n",
    "                                                     learning_rate=min(learning_rate,0.999),\n",
    "                                                     subsample=min(subsample,0.999),\n",
    "                                                     random_state=1123),\n",
    "                          train_data, train_label, scoring='roc_auc', cv=5).mean()\n",
    "    return val\n",
    "\n",
    "gbdt_bo = BayesianOptimization(gbdt_cv,{'n_estimators': (10, 250),\n",
    "                                        'min_samples_split': (2, 25),\n",
    "                                        'max_features': (0.1, 0.999),\n",
    "                                        'max_depth': (3, 15),\n",
    "                                        'learning_rate':(0.1,0.999),\n",
    "                                        'subsample':(0.1,0.999)})\n",
    "\n",
    "gbdt_bo.maximize() #n_iter=10\n",
    "gbdt_bo.max"
   ]
  },
  {
   "cell_type": "code",
   "execution_count": null,
   "metadata": {},
   "outputs": [],
   "source": []
  }
 ],
 "metadata": {
  "kernelspec": {
   "display_name": "Python 3",
   "language": "python",
   "name": "python3"
  },
  "language_info": {
   "codemirror_mode": {
    "name": "ipython",
    "version": 3
   },
   "file_extension": ".py",
   "mimetype": "text/x-python",
   "name": "python",
   "nbconvert_exporter": "python",
   "pygments_lexer": "ipython3",
   "version": "3.8.5"
  }
 },
 "nbformat": 4,
 "nbformat_minor": 4
}
