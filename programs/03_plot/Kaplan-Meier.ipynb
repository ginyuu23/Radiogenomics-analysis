{
 "cells": [
  {
   "cell_type": "code",
   "execution_count": null,
   "metadata": {},
   "outputs": [],
   "source": [
    "from lifelines import KaplanMeierFitter\n",
    "from lifelines import CoxPHFitter\n",
    "from lifelines.statistics import logrank_test\n",
    "import pandas as pd\n",
    "import matplotlib.pyplot as plt\n",
    "import warnings; warnings.filterwarnings(action='ignore')"
   ]
  },
  {
   "cell_type": "code",
   "execution_count": null,
   "metadata": {},
   "outputs": [],
   "source": [
    "df = pd.read_csv(\"/path of predicted results from machine learning model.csv/\",header=0,index_col=0)\n",
    "\n",
    "kmf = KaplanMeierFitter(alpha = 0.95)   #alpha设置置信区间\n",
    "\n",
    "T = df['Duration'] / 365                       #生存时长（天数）\n",
    "E = df['SurvivalStatus']  \n",
    "groups = df['test']\n",
    "ix = (groups == 'low')\n",
    "\n",
    "plt.figure(figsize=(6,4.5))\n",
    "kmf.fit(T[~ix], E[~ix], label='HOPX-positive')\n",
    "ax = kmf.plot_survival_function()  #有置信区间\n",
    "#print(\"High, Median Survival Time (year):\", kmf.median_survival_time_)\n",
    "kmf.fit(T[ix], E[ix], label='HOPX-negative')\n",
    "ax = kmf.plot_survival_function(ax=ax)\n",
    "#print(\"Low, Median Survival Time (year):\", kmf.median_survival_time_)\n",
    "#plt.title('HOPX',fontweight='bold')\n",
    "plt.xlabel('Time since diagnosis (year)')\n",
    "plt.ylabel('Overall survival')\n",
    "plt.text(0,0.155,\"p(log-rank test)=0.0026\")\n",
    "plt.text(-1.2,1.1,\"d\",fontweight='bold',fontsize=20)\n",
    "plt.title('Radiogenomic signature (2 image features)',fontweight='bold',fontsize=13)\n",
    "#plt.text(-1.5,1.04,\"b\",fontweight='bold',fontsize=18)\n",
    "\n",
    "\n",
    "T_exp, E_exp = df.loc[ix, 'Duration'], df.loc[ix, 'SurvivalStatus']\n",
    "T_con, E_con = df.loc[~ix, 'Duration'], df.loc[~ix, 'SurvivalStatus']\n",
    "results = logrank_test(T_exp, T_con, event_observed_A=E_exp, event_observed_B=E_con)\n",
    "results.print_summary()\n",
    "print(results.p_value)        \n",
    "\n",
    "plt.savefig('/path to save KM curves.png/',dpi=800,bbox_inches='tight')"
   ]
  },
  {
   "cell_type": "code",
   "execution_count": null,
   "metadata": {},
   "outputs": [],
   "source": []
  },
  {
   "cell_type": "code",
   "execution_count": null,
   "metadata": {},
   "outputs": [],
   "source": []
  },
  {
   "cell_type": "code",
   "execution_count": null,
   "metadata": {},
   "outputs": [],
   "source": []
  },
  {
   "cell_type": "code",
   "execution_count": null,
   "metadata": {},
   "outputs": [],
   "source": []
  }
 ],
 "metadata": {
  "kernelspec": {
   "display_name": "Python 3",
   "language": "python",
   "name": "python3"
  },
  "language_info": {
   "codemirror_mode": {
    "name": "ipython",
    "version": 3
   },
   "file_extension": ".py",
   "mimetype": "text/x-python",
   "name": "python",
   "nbconvert_exporter": "python",
   "pygments_lexer": "ipython3",
   "version": "3.8.5"
  }
 },
 "nbformat": 4,
 "nbformat_minor": 4
}
