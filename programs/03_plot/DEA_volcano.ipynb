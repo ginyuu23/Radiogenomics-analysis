{
 "cells": [
  {
   "cell_type": "code",
   "execution_count": null,
   "metadata": {},
   "outputs": [],
   "source": [
    "import seaborn as sns\n",
    "import matplotlib.pyplot as plt\n",
    "%matplotlib inline\n",
    "import os\n",
    "import numpy as np\n",
    "import pandas as pd\n",
    "os.chdir('/path of gene expression/')\n",
    "from scipy import stats\n",
    "import math"
   ]
  },
  {
   "cell_type": "code",
   "execution_count": null,
   "metadata": {},
   "outputs": [],
   "source": [
    "#导入数据\n",
    "data = pd.read_csv(\"gene.csv\",header = 0,index_col = 0)\n",
    "data.head()"
   ]
  },
  {
   "cell_type": "code",
   "execution_count": null,
   "metadata": {},
   "outputs": [],
   "source": [
    "# 查看数据维度\n",
    "# Check the dimension of the loaded data (rows & columns)\n",
    "print(data.shape)\n",
    "# Number of rows\n",
    "number_of_genes = len(data.index)\n",
    "print(number_of_genes)"
   ]
  },
  {
   "cell_type": "code",
   "execution_count": null,
   "metadata": {},
   "outputs": [],
   "source": [
    "# Boxplot of each microarray\n",
    "plt.show(data2.plot(kind = 'box', title = 'gene Boxplot', rot = 90))"
   ]
  },
  {
   "cell_type": "code",
   "execution_count": null,
   "metadata": {},
   "outputs": [],
   "source": [
    "# Density\n",
    "plt.show(data.plot(kind = 'density', title = 'gene Density'))"
   ]
  },
  {
   "cell_type": "code",
   "execution_count": null,
   "metadata": {},
   "outputs": [],
   "source": [
    "#差异分析\n",
    "# The mean of expression of the tumor samples for each gene (row)\n",
    "wt = data.loc[:, 'R01-003':'R01-146'].mean(axis = 1)\n",
    "wt.head()"
   ]
  },
  {
   "cell_type": "code",
   "execution_count": null,
   "metadata": {},
   "outputs": [],
   "source": [
    "# The mean of expression of the normal samples for each gene (row)\n",
    "ko = data.loc[:,'lung3' : 'lung1'].mean(axis = 1)\n",
    "ko.head()"
   ]
  },
  {
   "cell_type": "code",
   "execution_count": null,
   "metadata": {},
   "outputs": [],
   "source": [
    "# 查看基因差异的差异倍数fold分布\n",
    "fold = wt / ko\n",
    "foldchange = np.log2(fold)\n",
    "#print(foldchange)\n",
    "# Histogram of the fold-change\n",
    "plt.hist(foldchange)\n",
    "plt.title(\"Histogram of fold-change\")\n",
    "plt.show()"
   ]
  },
  {
   "cell_type": "code",
   "execution_count": null,
   "metadata": {},
   "outputs": [],
   "source": [
    "#查看基因差异的P值分布\n",
    "from scipy import stats\n",
    "\n",
    "pvalue = []\n",
    "for i in range(0, number_of_genes):\n",
    "    ttest = stats.ttest_ind(data.iloc[i,0:2], data.iloc[i,3:])\n",
    "    pvalue.append(ttest[1])\n",
    "\n",
    "# Histogram of the p-values\n",
    "plt.hist(-np.log10(pvalue))\n",
    "#print(-np.log10(pvalue))\n",
    "plt.title(\"Histogram of p-value\")\n",
    "plt.show()"
   ]
  },
  {
   "cell_type": "code",
   "execution_count": null,
   "metadata": {},
   "outputs": [],
   "source": [
    "#火山图\n",
    "myarray = np.asarray(pvalue)\n",
    "result = pd.DataFrame({'pvalue':myarray,'FoldChange':foldchange})\n",
    "result['log(pvalue)'] = -np.log10(result['pvalue'])\n",
    "result['sig'] = 'Normal'\n",
    "result['size']  =np.abs(result['FoldChange'])/10\n",
    "\n",
    "result.loc[(result.FoldChange> 1.5 )&(result.pvalue < 0.05),'sig'] = 'Over'\n",
    "result.loc[(result.FoldChange< -1.5 )&(result.pvalue < 0.05),'sig'] = 'Low'\n",
    "plt.figure(figsize=(6,5))\n",
    "ax = sns.scatterplot(x=\"FoldChange\", y=\"log(pvalue)\",\n",
    "                     hue_order = ('Low','Normal','Over'), hue='sig',\n",
    "                     palette=(\"#377EB8\",\"grey\",\"#E41A1C\"), s=15,\n",
    "                     data=result)\n",
    "ax.axis([-6,6,0,10])\n",
    "ax.axvline(1.5, 0,10,linestyle=\"--\",alpha=0.55,color='grey')\n",
    "ax.axvline(-1.5, 0,10,linestyle=\"--\",alpha=0.55,color='grey')\n",
    "ax.axhline(1.3, -1,6,linestyle=\"--\", alpha=0.55,color='grey')\n",
    "#ax.text(-6,10.1,\"Low Expression <--\")\n",
    "#ax.text(2.9,10.1,\"--> Over Expression\")\n",
    "ax.text(-1.63,-0.527,\"-1.5\")\n",
    "ax.text(1.23,-0.527,\"1.5\")\n",
    "ax.text(-6.65,1.18,\"1.3\")\n",
    "ax.text(-7.1,4.3,\"10\",fontweight='bold',fontsize=6.5,rotation=90)\n",
    "ax.text(-0.2,-1.1,\"2\",fontweight='bold',fontsize=6.5)\n",
    "#ax.annotate('HOPX',\n",
    " #           xy=(-1.6, 3.6922), xycoords='data',\n",
    "  #          xytext=(0.5,0.5), textcoords='axes fraction',\n",
    "   #         arrowprops=dict(facecolor='black', shrink=0.05),\n",
    "    #        horizontalalignment='right', verticalalignment='top')\n",
    "ax.set_ylabel('-log  (p-value)',fontweight='bold',fontsize=11)\n",
    "ax.set_xlabel('log (FC)',fontweight='bold',fontsize=11)\n",
    "#ax.set_title('Volcano Plot of DEA',y=1,fontweight='bold',fontsize=15)\n",
    "ax.figure.savefig('/Users/armandayuu/Desktop/dea.png',dpi=800,bbox_inches='tight')"
   ]
  },
  {
   "cell_type": "code",
   "execution_count": null,
   "metadata": {},
   "outputs": [],
   "source": []
  },
  {
   "cell_type": "code",
   "execution_count": null,
   "metadata": {},
   "outputs": [],
   "source": [
    "#筛选差异基因\n",
    "fold_cutoff = -1.5\n",
    "pvalue_cutoff = 0.05\n",
    "\n",
    "filtered_ids = []\n",
    "for i in range(0, number_of_genes):\n",
    "    if (abs(fold[i]) >= fold_cutoff) and (pvalue[i] <= pvalue_cutoff):\n",
    "        filtered_ids.append(i)\n",
    "        \n",
    "filtered = data.iloc[filtered_ids,:]\n",
    "print(\"Number of DE genes: \")\n",
    "print(len(filtered.index))\n",
    "\n",
    "filtered.head(60)\n"
   ]
  },
  {
   "cell_type": "code",
   "execution_count": null,
   "metadata": {},
   "outputs": [],
   "source": []
  }
 ],
 "metadata": {
  "kernelspec": {
   "display_name": "Python 3",
   "language": "python",
   "name": "python3"
  },
  "language_info": {
   "codemirror_mode": {
    "name": "ipython",
    "version": 3
   },
   "file_extension": ".py",
   "mimetype": "text/x-python",
   "name": "python",
   "nbconvert_exporter": "python",
   "pygments_lexer": "ipython3",
   "version": "3.8.5"
  }
 },
 "nbformat": 4,
 "nbformat_minor": 4
}
